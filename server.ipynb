{
 "cells": [
  {
   "cell_type": "code",
   "execution_count": 13,
   "metadata": {
    "collapsed": true
   },
   "outputs": [],
   "source": [
    "#-*- coding: utf-8 -*-\n",
    "from sklearn.externals import joblib"
   ]
  },
  {
   "cell_type": "code",
   "execution_count": 14,
   "metadata": {
    "collapsed": false
   },
   "outputs": [],
   "source": [
    "clf = joblib.load('classify.model')\n",
    "cate_dict = joblib.load('cate_dict.dat')\n",
    "vectorizer = joblib.load('vectorizer.dat')"
   ]
  },
  {
   "cell_type": "code",
   "execution_count": 15,
   "metadata": {
    "collapsed": false
   },
   "outputs": [
    {
     "data": {
      "text/plain": [
       "['n_classify.model',\n",
       " 'n_classify.model_01.npy',\n",
       " 'n_classify.model_02.npy',\n",
       " 'n_classify.model_03.npy']"
      ]
     },
     "execution_count": 15,
     "metadata": {},
     "output_type": "execute_result"
    }
   ],
   "source": [
    "joblib.dump(clf, 'n_classify.model')"
   ]
  },
  {
   "cell_type": "code",
   "execution_count": 16,
   "metadata": {
    "collapsed": false
   },
   "outputs": [
    {
     "data": {
      "text/plain": [
       "['n_vectorizer.dat']"
      ]
     },
     "execution_count": 16,
     "metadata": {},
     "output_type": "execute_result"
    }
   ],
   "source": [
    "joblib.dump(cate_dict, 'n_cate_dict.dat')\n",
    "joblib.dump(vectorizer, 'n_vectorizer.dat')"
   ]
  },
  {
   "cell_type": "code",
   "execution_count": 17,
   "metadata": {
    "collapsed": true
   },
   "outputs": [],
   "source": [
    "cate_id_name_dict = dict(map(lambda (k,v):(v,k),cate_dict.items()))"
   ]
  },
  {
   "cell_type": "code",
   "execution_count": 18,
   "metadata": {
    "collapsed": false
   },
   "outputs": [],
   "source": [
    "print vectorizer.transform(['인텔 코어 i3 아이비브릿지 3220'])[0]"
   ]
  },
  {
   "cell_type": "code",
   "execution_count": 19,
   "metadata": {
    "collapsed": false
   },
   "outputs": [],
   "source": [
    "pred = clf.predict(vectorizer.transform(['인텔 코어 i3 아이비브릿지 3220']))[0]\n",
    "print cate_id_name_dict[pred]"
   ]
  },
  {
   "cell_type": "code",
   "execution_count": 20,
   "metadata": {
    "collapsed": true
   },
   "outputs": [],
   "source": [
    "import sys  \n",
    "\n",
    "reload(sys)  \n",
    "sys.setdefaultencoding('utf8')"
   ]
  },
  {
   "cell_type": "code",
   "execution_count": 21,
   "metadata": {
    "collapsed": false
   },
   "outputs": [],
   "source": [
    "import MeCab\n",
    "import urllib2\n",
    "import json\n",
    "\n",
    "from pandas import Series, DataFrame\n",
    "import pandas as pd"
   ]
  },
  {
   "cell_type": "code",
   "execution_count": 22,
   "metadata": {
    "collapsed": false
   },
   "outputs": [],
   "source": [
    "m = MeCab.Tagger('-d /usr/lib/mecab/dic/mecab-ko-dic')\n",
    "\n",
    "remove = ['SF', 'SE', 'SSO', 'SSC', 'SC', 'SY']\n",
    "stop_words = ['신한카드', '삼성카드', 'BC카드', '국민카드']\n",
    "count = 0\n",
    "\n",
    "test_df = pd.read_pickle('url-image.df')\n",
    "\n",
    "url_list = test_df.url\n",
    "cate_list = test_df.image"
   ]
  },
  {
   "cell_type": "code",
   "execution_count": 23,
   "metadata": {
    "collapsed": false
   },
   "outputs": [],
   "source": [
    "from bottle import route, run, template,request,get,post\n",
    "\n",
    "import time\n",
    "from threading import Condition\n",
    "_CONDITION = Condition()\n",
    "@route('/classify')\n",
    "def classify():\n",
    "    \n",
    "    global count\n",
    "    count+=1\n",
    "    print count\n",
    "    \n",
    "    print \"classify called\"\n",
    "    img = request.GET.get('img', '')\n",
    "    name = request.GET.get('name', '')\n",
    "    \n",
    "    category = ''\n",
    "    \n",
    "    for i in range(len(url_list)):\n",
    "        if(url_list[i] == img):\n",
    "            category = cate_list[i]\n",
    "\n",
    "    real_name = str(unicode(name +' '+ category))\n",
    "    \n",
    "    parsed = m.parse(real_name.encode('utf-8'))\n",
    "    entire_list = parsed.split('\\n')\n",
    "    \n",
    "    mid_list = []\n",
    "    new_d_elements = ''\n",
    "    \n",
    "    for element in entire_list:\n",
    "        if(element == 'EOS' or len(element) < 2) :\n",
    "            continue\n",
    "        splited = element.split('\\t')\n",
    "        mid_list.append([splited[0], splited[1].split(',')])\n",
    "            \n",
    "    for element in mid_list:\n",
    "        if element[1][0] in remove:\n",
    "            continue\n",
    "        if element[0] in stop_words:\n",
    "            continue\n",
    "        new_d_elements = new_d_elements+element[0]+' '\n",
    "        \n",
    "    #ret_value = json.load(urllib2.urlopen('http://192.168.99.100:5000/classify_url?imageurl='+img))\n",
    "    #new_d_elements = new_d_elements+' '+ret_value['result'][1][0][0]\n",
    "    \n",
    "    pred = clf.predict(vectorizer.transform([new_d_elements]))[0]\n",
    "    return {'cate': cate_id_name_dict[pred]}\n",
    "\n",
    "\n",
    "run(host='0.0.0.0', port=8887)"
   ]
  },
  {
   "cell_type": "code",
   "execution_count": null,
   "metadata": {
    "collapsed": true
   },
   "outputs": [],
   "source": []
  }
 ],
 "metadata": {
  "kernelspec": {
   "display_name": "Python 2",
   "language": "python",
   "name": "python2"
  },
  "language_info": {
   "codemirror_mode": {
    "name": "ipython",
    "version": 2
   },
   "file_extension": ".py",
   "mimetype": "text/x-python",
   "name": "python",
   "nbconvert_exporter": "python",
   "pygments_lexer": "ipython2",
   "version": "2.7.11"
  },
  "widgets": {
   "state": {},
   "version": "1.1.2"
  }
 },
 "nbformat": 4,
 "nbformat_minor": 0
}
